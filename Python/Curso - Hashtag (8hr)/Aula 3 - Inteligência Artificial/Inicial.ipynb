{
 "cells": [
  {
   "cell_type": "code",
   "execution_count": null,
   "id": "c1e9ec30",
   "metadata": {},
   "outputs": [],
   "source": [
    "import pandas as pd # importação dos Dados com o apelido \"pd\"\n",
    "\n",
    "tabela = pd.read_csv(\"clientes.csv\") # inicia a variável e lê a base de dados\n",
    "\n",
    "display(tabela) # mostra a tabela organizada"
   ]
  },
  {
   "cell_type": "code",
   "execution_count": null,
   "id": "7e4e18ad",
   "metadata": {},
   "outputs": [],
   "source": [
    "from sklearn.preprocessing import LabelEncoder # importação para o processo de Machine Learning\n",
    "\n",
    "codificador1 = LabelEncoder() # criação do codificador para tratar dados para números\n",
    "tabela[\"profissão\"] = codificador1.fit_transform(tabela[\"profissão\"]) # vai definir um novo valor e alterar na coluna\n",
    "\n",
    "codificador2 = LabelEncoder() # criação do codificador para tratar dados para números\n",
    "tabela[\"mix_credito\"] = codificador2.fit_transform(tabela[\"mix_credito\"]) # vai definir um novo valor e alterar na coluna\n",
    "\n",
    "codificador3 = LabelEncoder() # criação do codificador para tratar dados para números\n",
    "tabela[\"comportamento_pagamento\"] = codificador3.fit_transform(tabela[\"comportamento_pagamento\"]) # vai definir um novo valor e alterar na coluna\n",
    "\n",
    "display(tabela.info()) # mostra as informações da tabela organizada\n",
    "\n",
    "y = tabela[\"score_credito\"] # y para prever a coluna score_credito da tabela\n",
    "x = tabela.drop(colums = \"score_credito\") # x para todas as colunas sem previsão menos a coluna score_credito\n",
    "\n",
    "from sklearn.model_selection import train_test_split # importação para dividir os dados de treino e teste\n",
    "x_treino, x_teste, y_treino, y_teste = train_test_split(x, y) # treinar e testar os dados com a IA"
   ]
  },
  {
   "cell_type": "code",
   "execution_count": null,
   "id": "f2f5cfb2",
   "metadata": {},
   "outputs": [],
   "source": [
    "from sklearn.ensemble import RandomForestClassifier # importar o modelo de Arvore de Decisão\n",
    "from sklearn.neighbors import KNeighborsClassifier # importar o modelo de Vizinhos Próximos\n",
    "\n",
    "modelo_arvoredecisao = RandomForestClassifier() # criar o modelo Arvore de Decisão\n",
    "modelo_knn = KNeighborsClassifier() # criar o modelo de Vizinhos Próximos\n",
    "\n",
    "modelo_arvoredecisao.fit(x_treino, y_treino) # treinar o modelo da Arvore de Decisão\n",
    "modelo_knn.fit(x_treino, y_treino) # treinar o modelo de Vizinhos Próximos"
   ]
  },
  {
   "cell_type": "code",
   "execution_count": null,
   "id": "4bde46fe",
   "metadata": {},
   "outputs": [],
   "source": [
    "previsao_arvoredecisao = modelo_arvoredecisao.predict(x_teste) # preve a coluna através do modelo Arvore de Decisão\n",
    "previsao_knn = modelo_knn.predict(x_teste) # preve a coluna através do modelo Vizinhos Próximos\n",
    "\n",
    "from sklearn.metrics import accuracy_score # importação para testar a probabilidade de acerto das IA's\n",
    "\n",
    "display(accuracy_score(y_teste, modelo_arvoredecisao)) # testa o percentual de acerto da Arvore de Decisão\n",
    "display(accuracy_score(y_teste, modelo_knn)) # testa o percentual de acerto do Vizinhos Próximos"
   ]
  },
  {
   "cell_type": "code",
   "execution_count": null,
   "id": "7b44a013",
   "metadata": {},
   "outputs": [],
   "source": [
    "tabela_nova = pd.read_csv(\"novos_clientes.csv\")\n",
    "codificador1 = LabelEncoder() # criação do codificador para tratar dados para números\n",
    "tabela_nova[\"profissão\"] = codificador1.fit_transform(tabela_nova[\"profissão\"]) # vai definir um novo valor e alterar na coluna na tabela nova\n",
    "\n",
    "codificador2 = LabelEncoder() # criação do codificador para tratar dados para números\n",
    "tabela_nova[\"mix_credito\"] = codificador2.fit_transform(tabela_nova[\"mix_credito\"]) # vai definir um novo valor e alterar na coluna na tabela nova\n",
    "\n",
    "codificador3 = LabelEncoder() # criação do codificador para tratar dados para números\n",
    "tabela_nova[\"comportamento_pagamento\"] = codificador3.fit_transform(tabela_nova[\"comportamento_pagamento\"]) # vai definir um novo valor e alterar na coluna na tabela nova\n",
    "\n",
    "previsao = modelo_arvoredecisao.predict(tabela_nova) # preve as colunas da tabela nova\n",
    "display(previsao) # exibe a previsão"
   ]
  }
 ],
 "metadata": {
  "kernelspec": {
   "display_name": "Python 3",
   "language": "python",
   "name": "python3"
  },
  "language_info": {
   "codemirror_mode": {
    "name": "ipython",
    "version": 3
   },
   "file_extension": ".py",
   "mimetype": "text/x-python",
   "name": "python",
   "nbconvert_exporter": "python",
   "pygments_lexer": "ipython3",
   "version": "3.13.1"
  }
 },
 "nbformat": 4,
 "nbformat_minor": 5
}
