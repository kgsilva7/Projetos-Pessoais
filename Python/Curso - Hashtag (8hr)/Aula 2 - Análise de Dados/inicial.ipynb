{
 "cells": [
  {
   "cell_type": "code",
   "execution_count": null,
   "id": "47721daa",
   "metadata": {
    "vscode": {
     "languageId": "plaintext"
    }
   },
   "outputs": [],
   "source": [
    "import pandas as pd # importação para base de dados [abreviação de pandas = pd]\n",
    "import plotly.express as px # importação de gráfico [abreviação de plotly = px] \n",
    "\n",
    "tabela = pd.read_csv(\"cancelamentos_sample.csv\") # instancia a variável e lê a base de dados\n",
    "tabela = tabela.drop(columns = \"CustumerID\") # exclui a coluna CustumerID\n",
    "display(tabela) # mostra a tabela de forma organizada\n",
    "\n",
    "display(tabela.info()) # mostra a base de dados organizada e com as informações vazias\n",
    "tabela = tabela.dropna() # exclui todas as informações vazias da tabela\n",
    "display(tabela.info()) \n",
    "\n",
    "display(tabela[\"cancelou\"].value_counts(normalize=True)) # seleciona a coluna para contar e o percentual em parâmetro\n",
    "for coluna in tabela.columns: # para cada coluna na tabela, faz um gráfico\n",
    "    grafico = px.histogram(tabela, x=\"idade\", color=\"cancelou\") # cria o gráfico para ver se cancelou diferenciado por cor\n",
    "    grafico.show() # exibe o gráfico\n",
    "\n",
    "tabela = tabela[tabela[\"ligacoes_center\"]<=4] # resolve o problema de mais de 4 ligações no callcenter como condição na tabela\n",
    "tabela = tabela[tabela[\"dias_atraso\"]<=20] # resolve o problema de mais de 20 dias de atraso no pagamento\n",
    "tabela = tabela[tabela[\"duracao_contrato\"]!=\"Monthly\"] # resolve o problema da duração de contrato Mensal para não cancelar\n",
    "display(tabela[\"cancelou\"].value_counts(normalize=True))"
   ]
  }
 ],
 "metadata": {
  "language_info": {
   "name": "python"
  }
 },
 "nbformat": 4,
 "nbformat_minor": 5
}
